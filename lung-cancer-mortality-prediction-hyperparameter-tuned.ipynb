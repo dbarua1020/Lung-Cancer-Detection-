{
 "cells": [
  {
   "cell_type": "code",
   "execution_count": 1,
   "id": "eaac1464",
   "metadata": {
    "execution": {
     "iopub.execute_input": "2024-06-04T21:42:53.841432Z",
     "iopub.status.busy": "2024-06-04T21:42:53.840890Z",
     "iopub.status.idle": "2024-06-04T21:42:53.847938Z",
     "shell.execute_reply": "2024-06-04T21:42:53.846356Z"
    },
    "papermill": {
     "duration": 0.043835,
     "end_time": "2024-06-04T21:42:53.850800",
     "exception": false,
     "start_time": "2024-06-04T21:42:53.806965",
     "status": "completed"
    },
    "tags": []
   },
   "outputs": [],
   "source": [
    "import pandas as pd\n",
    "import warnings\n",
    "warnings.filterwarnings('ignore')"
   ]
  },
  {
   "cell_type": "code",
   "execution_count": 2,
   "id": "fb3da1e5",
   "metadata": {
    "execution": {
     "iopub.execute_input": "2024-06-04T21:42:53.918606Z",
     "iopub.status.busy": "2024-06-04T21:42:53.918192Z",
     "iopub.status.idle": "2024-06-04T21:43:09.711305Z",
     "shell.execute_reply": "2024-06-04T21:43:09.709988Z"
    },
    "papermill": {
     "duration": 15.832506,
     "end_time": "2024-06-04T21:43:09.714493",
     "exception": false,
     "start_time": "2024-06-04T21:42:53.881987",
     "status": "completed"
    },
    "tags": []
   },
   "outputs": [],
   "source": [
    "# Load the dataset\n",
    "pd.set_option('display.max_columns', None)\n",
    "\n",
    "df1 = pd.read_csv('lung_cancer_mortality_data_large_v2.csv')\n"
   ]
  },
  {
   "cell_type": "markdown",
   "id": "d9437120",
   "metadata": {
    "papermill": {
     "duration": 0.031389,
     "end_time": "2024-06-04T21:43:09.778230",
     "exception": false,
     "start_time": "2024-06-04T21:43:09.746841",
     "status": "completed"
    },
    "tags": []
   },
   "source": [
    "# Explore the Data"
   ]
  },
  {
   "cell_type": "code",
   "execution_count": null,
   "id": "30e5766d",
   "metadata": {
    "execution": {
     "iopub.execute_input": "2024-06-04T21:43:09.844328Z",
     "iopub.status.busy": "2024-06-04T21:43:09.843931Z",
     "iopub.status.idle": "2024-06-04T21:43:09.881675Z",
     "shell.execute_reply": "2024-06-04T21:43:09.880300Z"
    },
    "papermill": {
     "duration": 0.073607,
     "end_time": "2024-06-04T21:43:09.884550",
     "exception": false,
     "start_time": "2024-06-04T21:43:09.810943",
     "status": "completed"
    },
    "tags": []
   },
   "outputs": [],
   "source": [
    "df1.head()"
   ]
  },
  {
   "cell_type": "code",
   "execution_count": null,
   "id": "69e20ccf",
   "metadata": {
    "execution": {
     "iopub.execute_input": "2024-06-04T21:43:09.949479Z",
     "iopub.status.busy": "2024-06-04T21:43:09.949091Z",
     "iopub.status.idle": "2024-06-04T21:43:09.957296Z",
     "shell.execute_reply": "2024-06-04T21:43:09.956133Z"
    },
    "papermill": {
     "duration": 0.043748,
     "end_time": "2024-06-04T21:43:09.959931",
     "exception": false,
     "start_time": "2024-06-04T21:43:09.916183",
     "status": "completed"
    },
    "tags": []
   },
   "outputs": [],
   "source": [
    "df1.columns"
   ]
  },
  {
   "cell_type": "code",
   "execution_count": null,
   "id": "8f4c165d",
   "metadata": {
    "execution": {
     "iopub.execute_input": "2024-06-04T21:43:10.024633Z",
     "iopub.status.busy": "2024-06-04T21:43:10.024252Z",
     "iopub.status.idle": "2024-06-04T21:43:10.032074Z",
     "shell.execute_reply": "2024-06-04T21:43:10.030615Z"
    },
    "papermill": {
     "duration": 0.043442,
     "end_time": "2024-06-04T21:43:10.034800",
     "exception": false,
     "start_time": "2024-06-04T21:43:09.991358",
     "status": "completed"
    },
    "tags": []
   },
   "outputs": [],
   "source": [
    "df1.shape"
   ]
  },
  {
   "cell_type": "code",
   "execution_count": null,
   "id": "02b43d8d",
   "metadata": {
    "execution": {
     "iopub.execute_input": "2024-06-04T21:43:10.102459Z",
     "iopub.status.busy": "2024-06-04T21:43:10.102057Z",
     "iopub.status.idle": "2024-06-04T21:43:10.112037Z",
     "shell.execute_reply": "2024-06-04T21:43:10.110738Z"
    },
    "papermill": {
     "duration": 0.047235,
     "end_time": "2024-06-04T21:43:10.114464",
     "exception": false,
     "start_time": "2024-06-04T21:43:10.067229",
     "status": "completed"
    },
    "tags": []
   },
   "outputs": [],
   "source": [
    "df1.size"
   ]
  },
  {
   "cell_type": "code",
   "execution_count": null,
   "id": "c141dddb",
   "metadata": {
    "execution": {
     "iopub.execute_input": "2024-06-04T21:43:10.188373Z",
     "iopub.status.busy": "2024-06-04T21:43:10.187951Z",
     "iopub.status.idle": "2024-06-04T21:43:10.501642Z",
     "shell.execute_reply": "2024-06-04T21:43:10.500286Z"
    },
    "papermill": {
     "duration": 0.352806,
     "end_time": "2024-06-04T21:43:10.504415",
     "exception": false,
     "start_time": "2024-06-04T21:43:10.151609",
     "status": "completed"
    },
    "tags": []
   },
   "outputs": [],
   "source": [
    "# check for unique values\n",
    "df1['treatment_type'].unique()"
   ]
  },
  {
   "cell_type": "code",
   "execution_count": null,
   "id": "67436b45",
   "metadata": {
    "execution": {
     "iopub.execute_input": "2024-06-04T21:43:10.571175Z",
     "iopub.status.busy": "2024-06-04T21:43:10.570762Z",
     "iopub.status.idle": "2024-06-04T21:43:15.202644Z",
     "shell.execute_reply": "2024-06-04T21:43:15.201289Z"
    },
    "papermill": {
     "duration": 4.668521,
     "end_time": "2024-06-04T21:43:15.205454",
     "exception": false,
     "start_time": "2024-06-04T21:43:10.536933",
     "status": "completed"
    },
    "tags": []
   },
   "outputs": [],
   "source": [
    "# check for duplicates\n",
    "df1.duplicated().sum()"
   ]
  },
  {
   "cell_type": "code",
   "execution_count": null,
   "id": "770c885f",
   "metadata": {
    "execution": {
     "iopub.execute_input": "2024-06-04T21:43:15.334473Z",
     "iopub.status.busy": "2024-06-04T21:43:15.334018Z",
     "iopub.status.idle": "2024-06-04T21:43:18.526032Z",
     "shell.execute_reply": "2024-06-04T21:43:18.524897Z"
    },
    "papermill": {
     "duration": 3.290081,
     "end_time": "2024-06-04T21:43:18.528693",
     "exception": false,
     "start_time": "2024-06-04T21:43:15.238612",
     "status": "completed"
    },
    "tags": []
   },
   "outputs": [],
   "source": [
    "# check for missing values\n",
    "df1.isna().sum()"
   ]
  },
  {
   "cell_type": "code",
   "execution_count": null,
   "id": "85decda3",
   "metadata": {
    "execution": {
     "iopub.execute_input": "2024-06-04T21:43:18.597423Z",
     "iopub.status.busy": "2024-06-04T21:43:18.596974Z",
     "iopub.status.idle": "2024-06-04T21:43:18.607251Z",
     "shell.execute_reply": "2024-06-04T21:43:18.605773Z"
    },
    "papermill": {
     "duration": 0.047861,
     "end_time": "2024-06-04T21:43:18.610039",
     "exception": false,
     "start_time": "2024-06-04T21:43:18.562178",
     "status": "completed"
    },
    "tags": []
   },
   "outputs": [],
   "source": [
    "# check the data types\n",
    "df1.dtypes"
   ]
  },
  {
   "cell_type": "code",
   "execution_count": null,
   "id": "5e875a87",
   "metadata": {
    "execution": {
     "iopub.execute_input": "2024-06-04T21:43:18.677390Z",
     "iopub.status.busy": "2024-06-04T21:43:18.676964Z",
     "iopub.status.idle": "2024-06-04T21:43:18.697349Z",
     "shell.execute_reply": "2024-06-04T21:43:18.696079Z"
    },
    "papermill": {
     "duration": 0.057522,
     "end_time": "2024-06-04T21:43:18.700391",
     "exception": false,
     "start_time": "2024-06-04T21:43:18.642869",
     "status": "completed"
    },
    "tags": []
   },
   "outputs": [],
   "source": [
    "df1.info()"
   ]
  },
  {
   "cell_type": "code",
   "execution_count": null,
   "id": "103e3c92",
   "metadata": {
    "execution": {
     "iopub.execute_input": "2024-06-04T21:43:18.767859Z",
     "iopub.status.busy": "2024-06-04T21:43:18.767403Z",
     "iopub.status.idle": "2024-06-04T21:43:19.677064Z",
     "shell.execute_reply": "2024-06-04T21:43:19.675842Z"
    },
    "papermill": {
     "duration": 0.946769,
     "end_time": "2024-06-04T21:43:19.680276",
     "exception": false,
     "start_time": "2024-06-04T21:43:18.733507",
     "status": "completed"
    },
    "tags": []
   },
   "outputs": [],
   "source": [
    "df1.describe()"
   ]
  },
  {
   "cell_type": "markdown",
   "id": "23fdb0a5",
   "metadata": {
    "papermill": {
     "duration": 0.032308,
     "end_time": "2024-06-04T21:43:19.745508",
     "exception": false,
     "start_time": "2024-06-04T21:43:19.713200",
     "status": "completed"
    },
    "tags": []
   },
   "source": [
    "# Data cleaning"
   ]
  },
  {
   "cell_type": "code",
   "execution_count": 13,
   "id": "7559a50e",
   "metadata": {
    "execution": {
     "iopub.execute_input": "2024-06-04T21:43:19.813913Z",
     "iopub.status.busy": "2024-06-04T21:43:19.812743Z",
     "iopub.status.idle": "2024-06-04T21:43:20.168814Z",
     "shell.execute_reply": "2024-06-04T21:43:20.166888Z"
    },
    "papermill": {
     "duration": 0.393244,
     "end_time": "2024-06-04T21:43:20.171751",
     "exception": false,
     "start_time": "2024-06-04T21:43:19.778507",
     "status": "completed"
    },
    "tags": []
   },
   "outputs": [],
   "source": [
    "# make a copy in order not to tamper with the original dataset\n",
    "df = df1.copy()"
   ]
  },
  {
   "cell_type": "code",
   "execution_count": 14,
   "id": "3a300fc8",
   "metadata": {
    "execution": {
     "iopub.execute_input": "2024-06-04T21:43:20.241399Z",
     "iopub.status.busy": "2024-06-04T21:43:20.240815Z",
     "iopub.status.idle": "2024-06-04T21:43:22.237999Z",
     "shell.execute_reply": "2024-06-04T21:43:22.236390Z"
    },
    "papermill": {
     "duration": 2.034965,
     "end_time": "2024-06-04T21:43:22.240936",
     "exception": false,
     "start_time": "2024-06-04T21:43:20.205971",
     "status": "completed"
    },
    "tags": []
   },
   "outputs": [],
   "source": [
    "# Convert date columns to datetime\n",
    "df['diagnosis_date'] = pd.to_datetime(df['diagnosis_date'])\n",
    "df['end_treatment_date'] = pd.to_datetime(df['end_treatment_date'])"
   ]
  },
  {
   "cell_type": "code",
   "execution_count": 15,
   "id": "fd868a0c",
   "metadata": {
    "execution": {
     "iopub.execute_input": "2024-06-04T21:43:22.308750Z",
     "iopub.status.busy": "2024-06-04T21:43:22.308303Z",
     "iopub.status.idle": "2024-06-04T21:43:22.329144Z",
     "shell.execute_reply": "2024-06-04T21:43:22.327837Z"
    },
    "papermill": {
     "duration": 0.057969,
     "end_time": "2024-06-04T21:43:22.331898",
     "exception": false,
     "start_time": "2024-06-04T21:43:22.273929",
     "status": "completed"
    },
    "tags": []
   },
   "outputs": [],
   "source": [
    "# convert age data type to integer\n",
    "df['age'] = df['age'].astype(int)"
   ]
  },
  {
   "cell_type": "code",
   "execution_count": null,
   "id": "cd97249c",
   "metadata": {
    "execution": {
     "iopub.execute_input": "2024-06-04T21:43:22.401132Z",
     "iopub.status.busy": "2024-06-04T21:43:22.400715Z",
     "iopub.status.idle": "2024-06-04T21:43:22.409940Z",
     "shell.execute_reply": "2024-06-04T21:43:22.408811Z"
    },
    "papermill": {
     "duration": 0.046019,
     "end_time": "2024-06-04T21:43:22.412272",
     "exception": false,
     "start_time": "2024-06-04T21:43:22.366253",
     "status": "completed"
    },
    "tags": []
   },
   "outputs": [],
   "source": [
    "# re-check data types\n",
    "df.dtypes"
   ]
  },
  {
   "cell_type": "code",
   "execution_count": null,
   "id": "ef6bf463",
   "metadata": {
    "execution": {
     "iopub.execute_input": "2024-06-04T21:43:22.480966Z",
     "iopub.status.busy": "2024-06-04T21:43:22.480561Z",
     "iopub.status.idle": "2024-06-04T21:43:22.502011Z",
     "shell.execute_reply": "2024-06-04T21:43:22.500762Z"
    },
    "papermill": {
     "duration": 0.05927,
     "end_time": "2024-06-04T21:43:22.504432",
     "exception": false,
     "start_time": "2024-06-04T21:43:22.445162",
     "status": "completed"
    },
    "tags": []
   },
   "outputs": [],
   "source": [
    "# Display dataframe\n",
    "df.head()"
   ]
  },
  {
   "cell_type": "markdown",
   "id": "7930edec",
   "metadata": {
    "papermill": {
     "duration": 0.034052,
     "end_time": "2024-06-04T21:43:22.572129",
     "exception": false,
     "start_time": "2024-06-04T21:43:22.538077",
     "status": "completed"
    },
    "tags": []
   },
   "source": [
    "# Feature Engineering"
   ]
  },
  {
   "cell_type": "code",
   "execution_count": 18,
   "id": "cbfb2ac0",
   "metadata": {
    "execution": {
     "iopub.execute_input": "2024-06-04T21:43:22.640854Z",
     "iopub.status.busy": "2024-06-04T21:43:22.640374Z",
     "iopub.status.idle": "2024-06-04T21:43:23.089462Z",
     "shell.execute_reply": "2024-06-04T21:43:23.088019Z"
    },
    "papermill": {
     "duration": 0.486946,
     "end_time": "2024-06-04T21:43:23.092439",
     "exception": false,
     "start_time": "2024-06-04T21:43:22.605493",
     "status": "completed"
    },
    "tags": []
   },
   "outputs": [],
   "source": [
    "# map all columns with 1 and 0 to 'Yes' and 'No' in order to maintain consistency throughout the dataset\n",
    "df['hypertension'] = df['hypertension'].map({1: 'Yes', 0: 'No'})\n",
    "df['asthma'] = df['asthma'].map({1: 'Yes', 0: 'No'})\n",
    "df['cirrhosis'] = df['cirrhosis'].map({1: 'Yes', 0: 'No'})\n",
    "df['other_cancer'] = df['other_cancer'].map({1: 'Yes', 0: 'No'})\n",
    "df['survived'] = df['survived'].map({1: 'Yes', 0: 'No'})"
   ]
  },
  {
   "cell_type": "code",
   "execution_count": 19,
   "id": "86baf5c1",
   "metadata": {
    "execution": {
     "iopub.execute_input": "2024-06-04T21:43:23.161827Z",
     "iopub.status.busy": "2024-06-04T21:43:23.161371Z",
     "iopub.status.idle": "2024-06-04T21:43:23.269328Z",
     "shell.execute_reply": "2024-06-04T21:43:23.268098Z"
    },
    "papermill": {
     "duration": 0.146333,
     "end_time": "2024-06-04T21:43:23.272274",
     "exception": false,
     "start_time": "2024-06-04T21:43:23.125941",
     "status": "completed"
    },
    "tags": []
   },
   "outputs": [],
   "source": [
    "# create a new column and calculate number of days under treatment\n",
    "df['days_under_treatment'] = (df['end_treatment_date'] - df['diagnosis_date']).dt.days"
   ]
  },
  {
   "cell_type": "code",
   "execution_count": null,
   "id": "fe771468",
   "metadata": {
    "execution": {
     "iopub.execute_input": "2024-06-04T21:43:23.342002Z",
     "iopub.status.busy": "2024-06-04T21:43:23.341514Z",
     "iopub.status.idle": "2024-06-04T21:43:23.365644Z",
     "shell.execute_reply": "2024-06-04T21:43:23.364475Z"
    },
    "papermill": {
     "duration": 0.062474,
     "end_time": "2024-06-04T21:43:23.368710",
     "exception": false,
     "start_time": "2024-06-04T21:43:23.306236",
     "status": "completed"
    },
    "tags": []
   },
   "outputs": [],
   "source": [
    "df.head()"
   ]
  },
  {
   "cell_type": "markdown",
   "id": "fad1776b",
   "metadata": {
    "papermill": {
     "duration": 0.03521,
     "end_time": "2024-06-04T21:43:23.438311",
     "exception": false,
     "start_time": "2024-06-04T21:43:23.403101",
     "status": "completed"
    },
    "tags": []
   },
   "source": [
    "# Exploratory Data Analysis (EDA)"
   ]
  },
  {
   "cell_type": "markdown",
   "id": "528f62e2",
   "metadata": {
    "papermill": {
     "duration": 0.034302,
     "end_time": "2024-06-04T21:43:23.506990",
     "exception": false,
     "start_time": "2024-06-04T21:43:23.472688",
     "status": "completed"
    },
    "tags": []
   },
   "source": [
    "##### We want to use sqlite and because sqlite does not recognise datetime data type, we will have to convert those columns to string for this purpose"
   ]
  },
  {
   "cell_type": "code",
   "execution_count": 21,
   "id": "4d44fe49",
   "metadata": {
    "execution": {
     "iopub.execute_input": "2024-06-04T21:43:23.578483Z",
     "iopub.status.busy": "2024-06-04T21:43:23.578006Z",
     "iopub.status.idle": "2024-06-04T21:43:30.434772Z",
     "shell.execute_reply": "2024-06-04T21:43:30.433434Z"
    },
    "papermill": {
     "duration": 6.895855,
     "end_time": "2024-06-04T21:43:30.437773",
     "exception": false,
     "start_time": "2024-06-04T21:43:23.541918",
     "status": "completed"
    },
    "tags": []
   },
   "outputs": [],
   "source": [
    "df['diagnosis_date'] = df['diagnosis_date'].astype(str)\n",
    "df['end_treatment_date'] = df['end_treatment_date'].astype(str)"
   ]
  },
  {
   "cell_type": "code",
   "execution_count": null,
   "id": "86eaff31",
   "metadata": {
    "execution": {
     "iopub.execute_input": "2024-06-04T21:43:30.512081Z",
     "iopub.status.busy": "2024-06-04T21:43:30.511610Z",
     "iopub.status.idle": "2024-06-04T21:43:30.522002Z",
     "shell.execute_reply": "2024-06-04T21:43:30.520706Z"
    },
    "papermill": {
     "duration": 0.050318,
     "end_time": "2024-06-04T21:43:30.524748",
     "exception": false,
     "start_time": "2024-06-04T21:43:30.474430",
     "status": "completed"
    },
    "tags": []
   },
   "outputs": [],
   "source": [
    "df.dtypes"
   ]
  },
  {
   "cell_type": "code",
   "execution_count": null,
   "id": "5c4770e8",
   "metadata": {
    "execution": {
     "iopub.execute_input": "2024-06-04T21:43:30.597284Z",
     "iopub.status.busy": "2024-06-04T21:43:30.596846Z",
     "iopub.status.idle": "2024-06-04T21:43:56.984756Z",
     "shell.execute_reply": "2024-06-04T21:43:56.983234Z"
    },
    "papermill": {
     "duration": 26.427041,
     "end_time": "2024-06-04T21:43:56.987571",
     "exception": false,
     "start_time": "2024-06-04T21:43:30.560530",
     "status": "completed"
    },
    "tags": []
   },
   "outputs": [],
   "source": [
    "import sqlite3\n",
    "\n",
    "# Connect to SQLite database (or create it)\n",
    "conn = sqlite3.connect('cancer_data.db')\n",
    "\n",
    "# Insert DataFrame into SQLite database\n",
    "df.to_sql('patients', conn, if_exists='replace', index=False)\n",
    "\n",
    "# Close the connection\n",
    "# conn.close()"
   ]
  },
  {
   "cell_type": "markdown",
   "id": "da9c3a08",
   "metadata": {
    "papermill": {
     "duration": 0.035236,
     "end_time": "2024-06-04T21:43:57.057117",
     "exception": false,
     "start_time": "2024-06-04T21:43:57.021881",
     "status": "completed"
    },
    "tags": []
   },
   "source": [
    "#### Age Range Distribution of Lung Cancer Patients"
   ]
  },
  {
   "cell_type": "code",
   "execution_count": null,
   "id": "e997e82a",
   "metadata": {
    "execution": {
     "iopub.execute_input": "2024-06-04T21:43:57.129621Z",
     "iopub.status.busy": "2024-06-04T21:43:57.128626Z",
     "iopub.status.idle": "2024-06-04T21:44:01.488596Z",
     "shell.execute_reply": "2024-06-04T21:44:01.487245Z"
    },
    "papermill": {
     "duration": 4.399257,
     "end_time": "2024-06-04T21:44:01.491422",
     "exception": false,
     "start_time": "2024-06-04T21:43:57.092165",
     "status": "completed"
    },
    "tags": []
   },
   "outputs": [],
   "source": [
    "# Query to get age range counts for survivors and non-survivors\n",
    "query_age_range = \"\"\"\n",
    "SELECT\n",
    "    CASE\n",
    "        WHEN age BETWEEN 0 AND 19 THEN '0-19'\n",
    "        WHEN age BETWEEN 20 AND 29 THEN '20-29'\n",
    "        WHEN age BETWEEN 30 AND 39 THEN '30-39'\n",
    "        WHEN age BETWEEN 40 AND 49 THEN '40-49'\n",
    "        WHEN age BETWEEN 50 AND 59 THEN '50-59'\n",
    "        WHEN age BETWEEN 60 AND 69 THEN '60-69'\n",
    "        WHEN age BETWEEN 70 AND 79 THEN '70-79'\n",
    "        WHEN age >= 80 THEN '80+'\n",
    "    END AS age_range,\n",
    "    SUM(CASE WHEN survived = 'Yes' THEN 1 ELSE 1 END) as total_count\n",
    "FROM patients\n",
    "GROUP BY age_range\n",
    "ORDER BY age_range;\n",
    "\"\"\"\n",
    "\n",
    "# Execute the query and load the data into a DataFrame\n",
    "df_age_range = pd.read_sql(query_age_range, conn)\n",
    "\n",
    "# Display the DataFrame\n",
    "df_age_range"
   ]
  },
  {
   "cell_type": "code",
   "execution_count": null,
   "id": "0fc79b0a",
   "metadata": {
    "execution": {
     "iopub.execute_input": "2024-06-04T21:44:04.811241Z",
     "iopub.status.busy": "2024-06-04T21:44:04.810807Z",
     "iopub.status.idle": "2024-06-04T21:44:09.969078Z",
     "shell.execute_reply": "2024-06-04T21:44:09.967779Z"
    },
    "papermill": {
     "duration": 5.199204,
     "end_time": "2024-06-04T21:44:09.971929",
     "exception": false,
     "start_time": "2024-06-04T21:44:04.772725",
     "status": "completed"
    },
    "tags": []
   },
   "outputs": [],
   "source": [
    "# Query to get age range counts for survivors and non-survivors\n",
    "query_age_range = \"\"\"\n",
    "SELECT\n",
    "    CASE\n",
    "        WHEN age BETWEEN 0 AND 19 THEN '0-19'\n",
    "        WHEN age BETWEEN 20 AND 29 THEN '20-29'\n",
    "        WHEN age BETWEEN 30 AND 39 THEN '30-39'\n",
    "        WHEN age BETWEEN 40 AND 49 THEN '40-49'\n",
    "        WHEN age BETWEEN 50 AND 59 THEN '50-59'\n",
    "        WHEN age BETWEEN 60 AND 69 THEN '60-69'\n",
    "        WHEN age BETWEEN 70 AND 79 THEN '70-79'\n",
    "        WHEN age >= 80 THEN '80+'\n",
    "    END AS age_range,\n",
    "    SUM(CASE WHEN survived = 'Yes' THEN 1 ELSE 0 END) as survivors,\n",
    "    SUM(CASE WHEN survived = 'No' THEN 1 ELSE 0 END) as non_survivors,\n",
    "    SUM(CASE WHEN survived = 'Yes' THEN 1 ELSE 1 END) as total_count\n",
    "FROM patients\n",
    "GROUP BY age_range\n",
    "ORDER BY age_range;\n",
    "\"\"\"\n",
    "\n",
    "# Execute the query and load the data into a DataFrame\n",
    "df_age_range = pd.read_sql(query_age_range, conn)\n",
    "\n",
    "# Display the DataFrame\n",
    "df_age_range"
   ]
  },
  {
   "cell_type": "code",
   "execution_count": null,
   "id": "94ee7e91",
   "metadata": {
    "execution": {
     "iopub.execute_input": "2024-06-04T21:44:10.425078Z",
     "iopub.status.busy": "2024-06-04T21:44:10.424630Z",
     "iopub.status.idle": "2024-06-04T21:44:10.766968Z",
     "shell.execute_reply": "2024-06-04T21:44:10.765560Z"
    },
    "papermill": {
     "duration": 0.38395,
     "end_time": "2024-06-04T21:44:10.770014",
     "exception": false,
     "start_time": "2024-06-04T21:44:10.386064",
     "status": "completed"
    },
    "tags": []
   },
   "outputs": [],
   "source": [
    "df['country'].nunique()"
   ]
  },
  {
   "cell_type": "code",
   "execution_count": null,
   "id": "132351b7",
   "metadata": {
    "execution": {
     "iopub.execute_input": "2024-06-04T21:44:10.846800Z",
     "iopub.status.busy": "2024-06-04T21:44:10.845677Z",
     "iopub.status.idle": "2024-06-04T21:44:15.103207Z",
     "shell.execute_reply": "2024-06-04T21:44:15.101758Z"
    },
    "papermill": {
     "duration": 4.297621,
     "end_time": "2024-06-04T21:44:15.106003",
     "exception": false,
     "start_time": "2024-06-04T21:44:10.808382",
     "status": "completed"
    },
    "tags": []
   },
   "outputs": [],
   "source": [
    "# Query to get the death rate and survival rate of lung cancer by country\n",
    "query_death_rate = \"\"\"\n",
    "SELECT\n",
    "    country,\n",
    "    SUM(CASE WHEN survived = 'No' THEN 1 ELSE 0 END) as non_survivors,\n",
    "    SUM(CASE WHEN survived = 'Yes' THEN 1 ELSE 0 END) as survivors,\n",
    "    COUNT(*) as total_patients\n",
    "FROM patients\n",
    "GROUP BY country\n",
    "ORDER BY non_survivors DESC;\n",
    "\"\"\"\n",
    "\n",
    "# Execute the query and load the data into a DataFrame\n",
    "df_death_rate = pd.read_sql(query_death_rate, conn)\n",
    "\n",
    "# Display the DataFrame\n",
    "df_death_rate"
   ]
  },
  {
   "cell_type": "code",
   "execution_count": null,
   "id": "3d36290d",
   "metadata": {
    "execution": {
     "iopub.execute_input": "2024-06-04T21:44:21.649290Z",
     "iopub.status.busy": "2024-06-04T21:44:21.648853Z",
     "iopub.status.idle": "2024-06-04T21:44:25.333766Z",
     "shell.execute_reply": "2024-06-04T21:44:25.332253Z"
    },
    "papermill": {
     "duration": 3.733874,
     "end_time": "2024-06-04T21:44:25.337480",
     "exception": false,
     "start_time": "2024-06-04T21:44:21.603606",
     "status": "completed"
    },
    "scrolled": true,
    "tags": []
   },
   "outputs": [],
   "source": [
    "# Query to get the survival rate for patients with and without cirrhosis\n",
    "query_cirrhosis_survival = \"\"\"\n",
    "SELECT\n",
    "    cirrhosis,\n",
    "    SUM(CASE WHEN survived = 'Yes' THEN 1 ELSE 0 END) as survivors,\n",
    "    SUM(CASE WHEN survived = 'No' THEN 1 ELSE 0 END) as non_survivors,\n",
    "    COUNT(*) as total_patients\n",
    "FROM patients\n",
    "GROUP BY cirrhosis\n",
    "ORDER BY cirrhosis;\n",
    "\"\"\"\n",
    "\n",
    "# Execute the query and load the data into a DataFrame\n",
    "df_cirrhosis_survival = pd.read_sql(query_cirrhosis_survival, conn)\n",
    "\n",
    "# Display the DataFrame\n",
    "df_cirrhosis_survival"
   ]
  },
  {
   "cell_type": "markdown",
   "id": "eccc274e",
   "metadata": {
    "papermill": {
     "duration": 0.043407,
     "end_time": "2024-06-04T21:44:25.547600",
     "exception": false,
     "start_time": "2024-06-04T21:44:25.504193",
     "status": "completed"
    },
    "tags": []
   },
   "source": [
    "#### Lung Cancer Survival Rates by Asthma Status"
   ]
  },
  {
   "cell_type": "code",
   "execution_count": null,
   "id": "ca670928",
   "metadata": {
    "execution": {
     "iopub.execute_input": "2024-06-04T21:44:25.642632Z",
     "iopub.status.busy": "2024-06-04T21:44:25.642220Z",
     "iopub.status.idle": "2024-06-04T21:44:29.323852Z",
     "shell.execute_reply": "2024-06-04T21:44:29.322515Z"
    },
    "papermill": {
     "duration": 3.732918,
     "end_time": "2024-06-04T21:44:29.326788",
     "exception": false,
     "start_time": "2024-06-04T21:44:25.593870",
     "status": "completed"
    },
    "tags": []
   },
   "outputs": [],
   "source": [
    "# Query to get the survival rate for patients with and without asthma\n",
    "query_asthma_survival = \"\"\"\n",
    "SELECT\n",
    "    asthma,\n",
    "    SUM(CASE WHEN survived = 'Yes' THEN 1 ELSE 0 END) as survivors,\n",
    "    SUM(CASE WHEN survived = 'No' THEN 1 ELSE 0 END) as non_survivors,\n",
    "    COUNT(*) as total_patients\n",
    "FROM patients\n",
    "GROUP BY asthma\n",
    "ORDER BY asthma;\n",
    "\"\"\"\n",
    "\n",
    "# Execute the query and load the data into a DataFrame\n",
    "df_asthma_survival = pd.read_sql(query_asthma_survival, conn)\n",
    "\n",
    "# Display the DataFrame\n",
    "df_asthma_survival"
   ]
  },
  {
   "cell_type": "code",
   "execution_count": null,
   "id": "6aead210",
   "metadata": {
    "execution": {
     "iopub.execute_input": "2024-06-04T21:44:29.646349Z",
     "iopub.status.busy": "2024-06-04T21:44:29.645920Z",
     "iopub.status.idle": "2024-06-04T21:44:33.386587Z",
     "shell.execute_reply": "2024-06-04T21:44:33.385253Z"
    },
    "papermill": {
     "duration": 3.793968,
     "end_time": "2024-06-04T21:44:33.389527",
     "exception": false,
     "start_time": "2024-06-04T21:44:29.595559",
     "status": "completed"
    },
    "tags": []
   },
   "outputs": [],
   "source": [
    "# Query to get the survival rate for patients with and without other_cancer\n",
    "query_other_cancer_survival = \"\"\"\n",
    "SELECT\n",
    "    other_cancer,\n",
    "    SUM(CASE WHEN survived = 'Yes' THEN 1 ELSE 0 END) as survivors,\n",
    "    SUM(CASE WHEN survived = 'No' THEN 1 ELSE 0 END) as non_survivors,\n",
    "    COUNT(*) as total_patients\n",
    "FROM patients\n",
    "GROUP BY other_cancer\n",
    "ORDER BY other_cancer;\n",
    "\"\"\"\n",
    "\n",
    "# Execute the query and load the data into a DataFrame\n",
    "df_other_cancer_survival = pd.read_sql(query_other_cancer_survival, conn)\n",
    "\n",
    "# Display the DataFrame\n",
    "df_other_cancer_survival"
   ]
  },
  {
   "cell_type": "code",
   "execution_count": null,
   "id": "573cc086",
   "metadata": {
    "execution": {
     "iopub.execute_input": "2024-06-04T21:44:33.692917Z",
     "iopub.status.busy": "2024-06-04T21:44:33.691971Z",
     "iopub.status.idle": "2024-06-04T21:44:37.195916Z",
     "shell.execute_reply": "2024-06-04T21:44:37.194496Z"
    },
    "papermill": {
     "duration": 3.553981,
     "end_time": "2024-06-04T21:44:37.198830",
     "exception": false,
     "start_time": "2024-06-04T21:44:33.644849",
     "status": "completed"
    },
    "tags": []
   },
   "outputs": [],
   "source": [
    "# Query to get the survival rate for patients with and without hypertension\n",
    "query_hypertension_survival = \"\"\"\n",
    "SELECT\n",
    "    hypertension,\n",
    "    SUM(CASE WHEN survived = 'Yes' THEN 1 ELSE 0 END) as survivors,\n",
    "    SUM(CASE WHEN survived = 'No' THEN 1 ELSE 0 END) as non_survivors,\n",
    "    COUNT(*) as total_patients\n",
    "FROM patients\n",
    "GROUP BY hypertension\n",
    "ORDER BY hypertension;\n",
    "\"\"\"\n",
    "\n",
    "# Execute the query and load the data into a DataFrame\n",
    "df_hypertension_survival = pd.read_sql(query_hypertension_survival, conn)\n",
    "\n",
    "# Display the DataFrame\n",
    "df_hypertension_survival"
   ]
  },
  {
   "cell_type": "code",
   "execution_count": null,
   "id": "392640aa",
   "metadata": {
    "execution": {
     "iopub.execute_input": "2024-06-04T21:44:37.503882Z",
     "iopub.status.busy": "2024-06-04T21:44:37.503404Z",
     "iopub.status.idle": "2024-06-04T21:44:41.145316Z",
     "shell.execute_reply": "2024-06-04T21:44:41.144020Z"
    },
    "papermill": {
     "duration": 3.693181,
     "end_time": "2024-06-04T21:44:41.148120",
     "exception": false,
     "start_time": "2024-06-04T21:44:37.454939",
     "status": "completed"
    },
    "tags": []
   },
   "outputs": [],
   "source": [
    "# Query to get the survival rate for patients based on family history\n",
    "query_family_history_survival = \"\"\"\n",
    "SELECT\n",
    "    family_history,\n",
    "    SUM(CASE WHEN survived = 'Yes' THEN 1 ELSE 0 END) as survivors,\n",
    "    SUM(CASE WHEN survived = 'No' THEN 1 ELSE 0 END) as non_survivors,\n",
    "    COUNT(*) as total_patients\n",
    "FROM patients\n",
    "GROUP BY family_history\n",
    "ORDER BY family_history;\n",
    "\"\"\"\n",
    "\n",
    "# Execute the query and load the data into a DataFrame\n",
    "df_family_history_survival = pd.read_sql(query_family_history_survival, conn)\n",
    "\n",
    "# Display the DataFrame\n",
    "df_family_history_survival"
   ]
  },
  {
   "cell_type": "code",
   "execution_count": null,
   "id": "ec974755",
   "metadata": {
    "execution": {
     "iopub.execute_input": "2024-06-04T21:44:41.453031Z",
     "iopub.status.busy": "2024-06-04T21:44:41.452583Z",
     "iopub.status.idle": "2024-06-04T21:44:45.174371Z",
     "shell.execute_reply": "2024-06-04T21:44:45.172881Z"
    },
    "papermill": {
     "duration": 3.771998,
     "end_time": "2024-06-04T21:44:45.177292",
     "exception": false,
     "start_time": "2024-06-04T21:44:41.405294",
     "status": "completed"
    },
    "tags": []
   },
   "outputs": [],
   "source": [
    "# Query to get the survival rate for patients based on their gender\n",
    "query_gender_survival = \"\"\"\n",
    "SELECT\n",
    "    gender,\n",
    "    SUM(CASE WHEN survived = 'Yes' THEN 1 ELSE 0 END) as survivors,\n",
    "    SUM(CASE WHEN survived = 'No' THEN 1 ELSE 0 END) as non_survivors,\n",
    "    COUNT(*) as total_patients\n",
    "FROM patients\n",
    "GROUP BY gender\n",
    "ORDER BY gender;\n",
    "\"\"\"\n",
    "\n",
    "# Execute the query and load the data into a DataFrame\n",
    "df_gender_survival = pd.read_sql(query_gender_survival, conn)\n",
    "\n",
    "# Display the DataFrame\n",
    "df_gender_survival"
   ]
  },
  {
   "cell_type": "code",
   "execution_count": null,
   "id": "3e739ff4",
   "metadata": {
    "execution": {
     "iopub.execute_input": "2024-06-04T21:44:45.491388Z",
     "iopub.status.busy": "2024-06-04T21:44:45.490595Z",
     "iopub.status.idle": "2024-06-04T21:44:49.426397Z",
     "shell.execute_reply": "2024-06-04T21:44:49.425036Z"
    },
    "papermill": {
     "duration": 3.988063,
     "end_time": "2024-06-04T21:44:49.429270",
     "exception": false,
     "start_time": "2024-06-04T21:44:45.441207",
     "status": "completed"
    },
    "tags": []
   },
   "outputs": [],
   "source": [
    "# Query to get the survival rate for each smoking status category\n",
    "query_smoking_survival = \"\"\"\n",
    "SELECT\n",
    "    smoking_status,\n",
    "    SUM(CASE WHEN survived = 'Yes' THEN 1 ELSE 0 END) as survivors,\n",
    "    SUM(CASE WHEN survived = 'No' THEN 1 ELSE 0 END) as non_survivors,\n",
    "    COUNT(*) as total_patients\n",
    "FROM patients\n",
    "GROUP BY smoking_status\n",
    "ORDER BY non_survivors DESC;\n",
    "\"\"\"\n",
    "\n",
    "# Execute the query and load the data into a DataFrame\n",
    "df_smoking_survival = pd.read_sql(query_smoking_survival, conn)\n",
    "\n",
    "# Display the DataFrame\n",
    "df_smoking_survival"
   ]
  },
  {
   "cell_type": "code",
   "execution_count": null,
   "id": "7d88b613",
   "metadata": {
    "execution": {
     "iopub.execute_input": "2024-06-04T21:44:49.754581Z",
     "iopub.status.busy": "2024-06-04T21:44:49.754104Z",
     "iopub.status.idle": "2024-06-04T21:44:53.661803Z",
     "shell.execute_reply": "2024-06-04T21:44:53.660643Z"
    },
    "papermill": {
     "duration": 3.961904,
     "end_time": "2024-06-04T21:44:53.664523",
     "exception": false,
     "start_time": "2024-06-04T21:44:49.702619",
     "status": "completed"
    },
    "tags": []
   },
   "outputs": [],
   "source": [
    "# Query to get the survival rate for each type of treatment\n",
    "query_treatment_survival = \"\"\"\n",
    "SELECT\n",
    "    treatment_type,\n",
    "    SUM(CASE WHEN survived = 'Yes' THEN 1 ELSE 0 END) as survivors,\n",
    "    SUM(CASE WHEN survived = 'No' THEN 1 ELSE 0 END) as non_survivors,\n",
    "    COUNT(*) as total_patients\n",
    "FROM patients\n",
    "GROUP BY treatment_type\n",
    "ORDER BY non_survivors DESC;\n",
    "\"\"\"\n",
    "\n",
    "# Execute the query and load the data into a DataFrame\n",
    "df_treatment_survival = pd.read_sql(query_treatment_survival, conn)\n",
    "\n",
    "# Display the DataFrame\n",
    "df_treatment_survival"
   ]
  },
  {
   "cell_type": "code",
   "execution_count": null,
   "id": "817888c4",
   "metadata": {
    "execution": {
     "iopub.execute_input": "2024-06-04T21:44:53.980733Z",
     "iopub.status.busy": "2024-06-04T21:44:53.979578Z",
     "iopub.status.idle": "2024-06-04T21:44:57.850034Z",
     "shell.execute_reply": "2024-06-04T21:44:57.848822Z"
    },
    "papermill": {
     "duration": 3.922706,
     "end_time": "2024-06-04T21:44:57.852834",
     "exception": false,
     "start_time": "2024-06-04T21:44:53.930128",
     "status": "completed"
    },
    "tags": []
   },
   "outputs": [],
   "source": [
    "# Query to get the survival rate for each cancer stage\n",
    "query_cancer_stage_survival = \"\"\"\n",
    "SELECT\n",
    "    cancer_stage,\n",
    "    SUM(CASE WHEN survived = 'Yes' THEN 1 ELSE 0 END) as survivors,\n",
    "    SUM(CASE WHEN survived = 'No' THEN 1 ELSE 0 END) as non_survivors,\n",
    "    COUNT(*) as total_patients\n",
    "FROM patients\n",
    "GROUP BY cancer_stage\n",
    "ORDER BY non_survivors DESC;\n",
    "\"\"\"\n",
    "\n",
    "# Execute the query and load the data into a DataFrame\n",
    "df_cancer_stage_survival = pd.read_sql(query_cancer_stage_survival, conn)\n",
    "\n",
    "# Display the DataFrame\n",
    "df_cancer_stage_survival"
   ]
  },
  {
   "cell_type": "code",
   "execution_count": null,
   "id": "eb0ea32f",
   "metadata": {
    "execution": {
     "iopub.execute_input": "2024-06-04T21:44:58.185021Z",
     "iopub.status.busy": "2024-06-04T21:44:58.184285Z",
     "iopub.status.idle": "2024-06-04T21:44:58.203115Z",
     "shell.execute_reply": "2024-06-04T21:44:58.201716Z"
    },
    "papermill": {
     "duration": 0.083705,
     "end_time": "2024-06-04T21:44:58.206549",
     "exception": false,
     "start_time": "2024-06-04T21:44:58.122844",
     "status": "completed"
    },
    "tags": []
   },
   "outputs": [],
   "source": [
    "# Query to get BMI and cholesterol levels\n",
    "query_bmi_cholesterol = \"\"\"\n",
    "SELECT\n",
    "    bmi,\n",
    "    cholesterol_level\n",
    "FROM patients\n",
    "LIMIT 10\n",
    "\"\"\"\n",
    "\n",
    "# Execute the query and load the data into a DataFrame\n",
    "df_bmi_cholesterol = pd.read_sql(query_bmi_cholesterol, conn)\n",
    "\n",
    "# Display the DataFrame\n",
    "df_bmi_cholesterol"
   ]
  },
  {
   "cell_type": "code",
   "execution_count": null,
   "id": "ec1de25c",
   "metadata": {
    "execution": {
     "iopub.execute_input": "2024-06-04T21:45:02.048520Z",
     "iopub.status.busy": "2024-06-04T21:45:02.047791Z",
     "iopub.status.idle": "2024-06-04T21:45:02.064774Z",
     "shell.execute_reply": "2024-06-04T21:45:02.063461Z"
    },
    "papermill": {
     "duration": 0.07334,
     "end_time": "2024-06-04T21:45:02.067484",
     "exception": false,
     "start_time": "2024-06-04T21:45:01.994144",
     "status": "completed"
    },
    "tags": []
   },
   "outputs": [],
   "source": [
    "query_bmi_cholesterol_survival = \"\"\"\n",
    "SELECT\n",
    "    bmi,\n",
    "    cholesterol_level,\n",
    "    survived\n",
    "FROM patients\n",
    "LIMIT 10\n",
    "\"\"\"\n",
    "\n",
    "# Execute the query and load the data into a DataFrame\n",
    "df_bmi_cholesterol_survival = pd.read_sql(query_bmi_cholesterol_survival, conn)\n",
    "\n",
    "# Display the DataFrame\n",
    "df_bmi_cholesterol_survival"
   ]
  },
  {
   "cell_type": "code",
   "execution_count": null,
   "id": "d5667934",
   "metadata": {
    "execution": {
     "iopub.execute_input": "2024-06-04T21:45:02.576881Z",
     "iopub.status.busy": "2024-06-04T21:45:02.576394Z",
     "iopub.status.idle": "2024-06-04T21:45:03.823042Z",
     "shell.execute_reply": "2024-06-04T21:45:03.821749Z"
    },
    "papermill": {
     "duration": 1.301645,
     "end_time": "2024-06-04T21:45:03.826006",
     "exception": false,
     "start_time": "2024-06-04T21:45:02.524361",
     "status": "completed"
    },
    "tags": []
   },
   "outputs": [],
   "source": [
    "# Query to compare days_under_treatment for survivors based on treatment_type\n",
    "query_survivors_treatment_days = \"\"\"\n",
    "SELECT \n",
    "    treatment_type,\n",
    "    ROUND(AVG(days_under_treatment), 0) AS avg_days_under_treatment\n",
    "FROM \n",
    "    patients\n",
    "WHERE \n",
    "    survived = 'Yes'\n",
    "GROUP BY \n",
    "    treatment_type\n",
    "\"\"\"\n",
    "\n",
    "# Execute the query and load the results into a DataFrame\n",
    "df_survivors_treatment_days = pd.read_sql(query_survivors_treatment_days, conn)\n",
    "\n",
    "# Display the DataFrame\n",
    "df_survivors_treatment_days"
   ]
  },
  {
   "cell_type": "code",
   "execution_count": null,
   "id": "3df4666a",
   "metadata": {
    "execution": {
     "iopub.execute_input": "2024-06-04T21:45:04.234438Z",
     "iopub.status.busy": "2024-06-04T21:45:04.233938Z",
     "iopub.status.idle": "2024-06-04T21:45:05.478841Z",
     "shell.execute_reply": "2024-06-04T21:45:05.477397Z"
    },
    "papermill": {
     "duration": 1.308126,
     "end_time": "2024-06-04T21:45:05.481807",
     "exception": false,
     "start_time": "2024-06-04T21:45:04.173681",
     "status": "completed"
    },
    "tags": []
   },
   "outputs": [],
   "source": [
    "# Query to compare days_under_treatment for survivors based on treatment_type\n",
    "query_survivors_cancer_stage = \"\"\"\n",
    "SELECT \n",
    "    cancer_stage,\n",
    "    ROUND(AVG(days_under_treatment), 0) AS avg_days_under_treatment\n",
    "FROM \n",
    "    patients\n",
    "WHERE \n",
    "    survived = 'Yes'\n",
    "GROUP BY \n",
    "    cancer_stage\n",
    "\"\"\"\n",
    "\n",
    "# Execute the query and load the results into a DataFrame\n",
    "df_survivors_cancer_stage = pd.read_sql(query_survivors_cancer_stage, conn)\n",
    "\n",
    "# Display the DataFrame\n",
    "df_survivors_cancer_stage"
   ]
  },
  {
   "cell_type": "code",
   "execution_count": null,
   "id": "0b170e70",
   "metadata": {
    "execution": {
     "iopub.execute_input": "2024-06-04T21:45:05.877041Z",
     "iopub.status.busy": "2024-06-04T21:45:05.876556Z",
     "iopub.status.idle": "2024-06-04T21:45:05.901921Z",
     "shell.execute_reply": "2024-06-04T21:45:05.900542Z"
    },
    "papermill": {
     "duration": 0.081459,
     "end_time": "2024-06-04T21:45:05.905317",
     "exception": false,
     "start_time": "2024-06-04T21:45:05.823858",
     "status": "completed"
    },
    "tags": []
   },
   "outputs": [],
   "source": [
    "df.head()"
   ]
  },
  {
   "cell_type": "code",
   "execution_count": null,
   "id": "e915d19c",
   "metadata": {
    "execution": {
     "iopub.execute_input": "2024-06-04T21:45:06.014946Z",
     "iopub.status.busy": "2024-06-04T21:45:06.014515Z",
     "iopub.status.idle": "2024-06-04T21:45:06.024221Z",
     "shell.execute_reply": "2024-06-04T21:45:06.023049Z"
    },
    "papermill": {
     "duration": 0.06805,
     "end_time": "2024-06-04T21:45:06.026835",
     "exception": false,
     "start_time": "2024-06-04T21:45:05.958785",
     "status": "completed"
    },
    "tags": []
   },
   "outputs": [],
   "source": [
    "df.dtypes"
   ]
  },
  {
   "cell_type": "code",
   "execution_count": 43,
   "id": "5ad57557",
   "metadata": {
    "execution": {
     "iopub.execute_input": "2024-06-04T21:45:06.133832Z",
     "iopub.status.busy": "2024-06-04T21:45:06.133349Z",
     "iopub.status.idle": "2024-06-04T21:45:07.567089Z",
     "shell.execute_reply": "2024-06-04T21:45:07.565774Z"
    },
    "papermill": {
     "duration": 1.490632,
     "end_time": "2024-06-04T21:45:07.570169",
     "exception": false,
     "start_time": "2024-06-04T21:45:06.079537",
     "status": "completed"
    },
    "tags": []
   },
   "outputs": [],
   "source": [
    "# map all columns with 'Yes' and 'No' to 1 and 0 in order to be recognised by our algorithm\n",
    "df['hypertension'] = df['hypertension'].map({'Yes': 1, 'No': 0})\n",
    "df['asthma'] = df['asthma'].map({'Yes': 1, 'No': 0})\n",
    "df['cirrhosis'] = df['cirrhosis'].map({'Yes': 1, 'No': 0})\n",
    "df['other_cancer'] = df['other_cancer'].map({'Yes': 1, 'No': 0})\n",
    "df['survived'] = df['survived'].map({'Yes': 1, 'No': 0})\n",
    "df['family_history'] = df['family_history'].map({'Yes': 1, 'No': 0})"
   ]
  },
  {
   "cell_type": "code",
   "execution_count": 44,
   "id": "5ac23aba",
   "metadata": {
    "execution": {
     "iopub.execute_input": "2024-06-04T21:45:07.684711Z",
     "iopub.status.busy": "2024-06-04T21:45:07.683481Z",
     "iopub.status.idle": "2024-06-04T21:45:09.203347Z",
     "shell.execute_reply": "2024-06-04T21:45:09.202137Z"
    },
    "papermill": {
     "duration": 1.580347,
     "end_time": "2024-06-04T21:45:09.206506",
     "exception": false,
     "start_time": "2024-06-04T21:45:07.626159",
     "status": "completed"
    },
    "tags": []
   },
   "outputs": [],
   "source": [
    "df['gender'] = df['gender'].map({'Male': 1, 'Female': 0})\n",
    "df['cancer_stage'] = df['cancer_stage'].map({'Stage I': 1, 'Stage II': 2, 'Stage III':3, 'Stage IV':4})\n",
    "df['treatment_type'] = df['treatment_type'].map({'Chemotherapy': 1, 'Combined': 2, 'Radiation':3, 'Surgery':4})\n",
    "df['smoking_status'] = df['smoking_status'].map({'Current Smoker': 1, 'Former Smoker': 2, 'Never Smoked':3, 'Passive Smoker':4})"
   ]
  },
  {
   "cell_type": "code",
   "execution_count": null,
   "id": "7be73359",
   "metadata": {
    "execution": {
     "iopub.execute_input": "2024-06-04T21:45:09.311478Z",
     "iopub.status.busy": "2024-06-04T21:45:09.311048Z",
     "iopub.status.idle": "2024-06-04T21:45:09.320795Z",
     "shell.execute_reply": "2024-06-04T21:45:09.319686Z"
    },
    "papermill": {
     "duration": 0.064581,
     "end_time": "2024-06-04T21:45:09.323330",
     "exception": false,
     "start_time": "2024-06-04T21:45:09.258749",
     "status": "completed"
    },
    "tags": []
   },
   "outputs": [],
   "source": [
    "df.dtypes"
   ]
  },
  {
   "cell_type": "code",
   "execution_count": null,
   "id": "2f381522",
   "metadata": {
    "execution": {
     "iopub.execute_input": "2024-06-04T21:45:09.426876Z",
     "iopub.status.busy": "2024-06-04T21:45:09.426392Z",
     "iopub.status.idle": "2024-06-04T21:45:09.447445Z",
     "shell.execute_reply": "2024-06-04T21:45:09.446218Z"
    },
    "papermill": {
     "duration": 0.076203,
     "end_time": "2024-06-04T21:45:09.450244",
     "exception": false,
     "start_time": "2024-06-04T21:45:09.374041",
     "status": "completed"
    },
    "tags": []
   },
   "outputs": [],
   "source": [
    "df.head()"
   ]
  },
  {
   "cell_type": "code",
   "execution_count": null,
   "id": "8c8ca3a7",
   "metadata": {
    "execution": {
     "iopub.execute_input": "2024-06-04T21:45:09.565924Z",
     "iopub.status.busy": "2024-06-04T21:45:09.565469Z",
     "iopub.status.idle": "2024-06-04T21:45:09.607646Z",
     "shell.execute_reply": "2024-06-04T21:45:09.606071Z"
    },
    "papermill": {
     "duration": 0.108787,
     "end_time": "2024-06-04T21:45:09.610809",
     "exception": false,
     "start_time": "2024-06-04T21:45:09.502022",
     "status": "completed"
    },
    "tags": []
   },
   "outputs": [],
   "source": [
    "print(df['survived'].value_counts())"
   ]
  },
  {
   "cell_type": "markdown",
   "id": "9b2e0d13",
   "metadata": {
    "papermill": {
     "duration": 0.053046,
     "end_time": "2024-06-04T21:45:09.717866",
     "exception": false,
     "start_time": "2024-06-04T21:45:09.664820",
     "status": "completed"
    },
    "tags": []
   },
   "source": [
    "It has been observed that our target class is imbalanced. So, we’ll upsample the data so that the minority class matches the majority class."
   ]
  },
  {
   "cell_type": "code",
   "execution_count": 48,
   "id": "12613637",
   "metadata": {
    "execution": {
     "iopub.execute_input": "2024-06-04T21:45:09.824954Z",
     "iopub.status.busy": "2024-06-04T21:45:09.824022Z",
     "iopub.status.idle": "2024-06-04T21:45:13.603936Z",
     "shell.execute_reply": "2024-06-04T21:45:13.602310Z"
    },
    "papermill": {
     "duration": 3.836356,
     "end_time": "2024-06-04T21:45:13.606823",
     "exception": false,
     "start_time": "2024-06-04T21:45:09.770467",
     "status": "completed"
    },
    "tags": []
   },
   "outputs": [],
   "source": [
    "from sklearn.utils import resample\n",
    "#create two different dataframe of majority and minority class \n",
    "df_majority = df[(df['survived']==0)] \n",
    "df_minority = df[(df['survived']==1)] \n",
    "# upsample minority class\n",
    "df_minority_upsampled = resample(df_minority, \n",
    "                                 replace=True,    # sample with replacement\n",
    "                                 n_samples= 2536298, # to match majority class\n",
    "                                 random_state=42)  # reproducible results\n",
    "# Combine majority class with upsampled minority class\n",
    "df_upsampled = pd.concat([df_minority_upsampled, df_majority])"
   ]
  },
  {
   "cell_type": "markdown",
   "id": "17d742bc",
   "metadata": {
    "papermill": {
     "duration": 0.052871,
     "end_time": "2024-06-04T21:45:13.722206",
     "exception": false,
     "start_time": "2024-06-04T21:45:13.669335",
     "status": "completed"
    },
    "tags": []
   },
   "source": [
    "After upsampling, the distribution of class is balanced as below"
   ]
  },
  {
   "cell_type": "code",
   "execution_count": null,
   "id": "6b9a2627",
   "metadata": {
    "execution": {
     "iopub.execute_input": "2024-06-04T21:45:13.832604Z",
     "iopub.status.busy": "2024-06-04T21:45:13.832156Z",
     "iopub.status.idle": "2024-06-04T21:45:13.889715Z",
     "shell.execute_reply": "2024-06-04T21:45:13.888515Z"
    },
    "papermill": {
     "duration": 0.114316,
     "end_time": "2024-06-04T21:45:13.892216",
     "exception": false,
     "start_time": "2024-06-04T21:45:13.777900",
     "status": "completed"
    },
    "tags": []
   },
   "outputs": [],
   "source": [
    "print(df_upsampled['survived'].value_counts())"
   ]
  },
  {
   "cell_type": "code",
   "execution_count": 50,
   "id": "cb1f60b3",
   "metadata": {
    "execution": {
     "iopub.execute_input": "2024-06-04T21:45:14.001278Z",
     "iopub.status.busy": "2024-06-04T21:45:14.000857Z",
     "iopub.status.idle": "2024-06-04T21:45:14.390914Z",
     "shell.execute_reply": "2024-06-04T21:45:14.389540Z"
    },
    "papermill": {
     "duration": 0.447178,
     "end_time": "2024-06-04T21:45:14.393942",
     "exception": false,
     "start_time": "2024-06-04T21:45:13.946764",
     "status": "completed"
    },
    "tags": []
   },
   "outputs": [],
   "source": [
    "# Exclude the columns 'diagnosis_date', 'end_treatment_date', 'country', 'id', and 'survived'\n",
    "X = df_upsampled[['age', 'gender', 'cancer_stage', 'family_history', 'smoking_status', 'bmi', 'cholesterol_level', 'hypertension', 'asthma', 'cirrhosis', 'other_cancer', 'treatment_type', 'days_under_treatment']]\n",
    "y = df_upsampled['survived']"
   ]
  },
  {
   "cell_type": "code",
   "execution_count": 51,
   "id": "29334629",
   "metadata": {
    "execution": {
     "iopub.execute_input": "2024-06-04T21:45:14.501787Z",
     "iopub.status.busy": "2024-06-04T21:45:14.501313Z",
     "iopub.status.idle": "2024-06-04T21:45:17.062781Z",
     "shell.execute_reply": "2024-06-04T21:45:17.061542Z"
    },
    "papermill": {
     "duration": 2.618459,
     "end_time": "2024-06-04T21:45:17.066078",
     "exception": false,
     "start_time": "2024-06-04T21:45:14.447619",
     "status": "completed"
    },
    "tags": []
   },
   "outputs": [],
   "source": [
    "from sklearn.model_selection import train_test_split\n",
    "\n",
    "# Split the data into training and testing sets\n",
    "X_train, X_test, y_train, y_test = train_test_split(X, y, test_size=0.2, random_state=42)"
   ]
  },
  {
   "cell_type": "code",
   "execution_count": null,
   "id": "8088256a",
   "metadata": {
    "execution": {
     "iopub.execute_input": "2024-06-04T21:45:17.172924Z",
     "iopub.status.busy": "2024-06-04T21:45:17.172425Z",
     "iopub.status.idle": "2024-06-04T22:22:58.365726Z",
     "shell.execute_reply": "2024-06-04T22:22:58.364277Z"
    },
    "papermill": {
     "duration": 2261.250126,
     "end_time": "2024-06-04T22:22:58.368593",
     "exception": false,
     "start_time": "2024-06-04T21:45:17.118467",
     "status": "completed"
    },
    "tags": []
   },
   "outputs": [],
   "source": [
    "import numpy as np\n",
    "from sklearn.ensemble import RandomForestClassifier\n",
    "from sklearn.metrics import roc_auc_score, accuracy_score\n",
    "\n",
    "rf_model = RandomForestClassifier()\n",
    "rf_model.fit(X_train, y_train)\n",
    "\n",
    "predicted_proba = rf_model.predict_proba(X_test)[:, 1]  # Get probabilities for the positive class\n",
    "\n",
    "# Initialize variables\n",
    "step_factor = 0.05\n",
    "threshold_values = np.arange(0.2, 0.81, step_factor)\n",
    "roc_scores = []\n",
    "\n",
    "# Iterate over each threshold and calculate the ROC AUC score\n",
    "for threshold in threshold_values:\n",
    "    predicted = (predicted_proba >= threshold).astype('int')\n",
    "    roc_score = roc_auc_score(y_test, predicted)\n",
    "    print(f'Threshold {threshold:.2f} -- ROC AUC: {roc_score:.4f}')\n",
    "    roc_scores.append(roc_score)\n",
    "\n",
    "# Find the best threshold\n",
    "best_index = np.argmax(roc_scores)\n",
    "best_threshold = threshold_values[best_index]\n",
    "best_roc_score = roc_scores[best_index]\n",
    "\n",
    "print(f'--- Optimum Threshold --- {best_threshold:.2f} -- ROC AUC: {best_roc_score:.4f}')\n",
    "\n",
    "# Apply the best threshold to make final classifications\n",
    "final_predictions = (predicted_proba >= best_threshold).astype('int')\n",
    "\n",
    "# Evaluate the final classifications\n",
    "final_accuracy = accuracy_score(y_test, final_predictions)\n",
    "print(f'Final accuracy with optimal threshold {best_threshold:.2f}: {final_accuracy:.4f}')\n"
   ]
  },
  {
   "cell_type": "code",
   "execution_count": 55,
   "id": "54f667f9",
   "metadata": {},
   "outputs": [],
   "source": [
    "import joblib\n",
    "joblib.dump(rf_model,open('rfc_simp_model.joblib','wb'))"
   ]
  },
  {
   "cell_type": "code",
   "execution_count": null,
   "id": "6804cce2",
   "metadata": {},
   "outputs": [],
   "source": [
    "from sklearn.model_selection import RandomizedSearchCV\n",
    "from sklearn.ensemble import RandomForestClassifier\n",
    "from sklearn.model_selection import RandomizedSearchCV\n",
    "param_grid = {\n",
    "    'n_estimators': [100, 200, 300,400,500],\n",
    "    'max_features': ['auto', 'sqrt', 'log2'],\n",
    "    'max_depth': [10, 20, 30, 40, 50, None],\n",
    "    'min_samples_split': [2, 5, 10],\n",
    "    'min_samples_leaf': [1, 2, 4],\n",
    "    'bootstrap': [True, False],\n",
    "    'criterion': ['gini' , 'entropy'],\n",
    "    'max_samples':[None, 0.8, 0.9],\n",
    "    'oob_score': [True, False]\n",
    "}\n",
    "rf = RandomForestClassifier()\n",
    "random_search = RandomizedSearchCV(estimator=rf, param_distributions=param_grid, \n",
    "                                   n_iter=50, cv=3, verbose=2, random_state=42, n_jobs= -1)\n",
    "random_search.fit(X_train, y_train)\n",
    "print(\"Best parameters:\", random_search.best_params_)\n",
    "best_rf = random_search.best_estimator_\n",
    "y_pred = best_rf.predict(X_test)\n",
    "from sklearn.metrics import classification_report\n",
    "print(classification_report(y_test, y_pred))"
   ]
  },
  {
   "cell_type": "code",
   "execution_count": null,
   "id": "17f95407",
   "metadata": {},
   "outputs": [],
   "source": [
    "from sklearn.metrics import accuracy_score\n",
    "accuracy_score(y_pred,y_test)"
   ]
  },
  {
   "cell_type": "code",
   "execution_count": 58,
   "id": "ba6926b8",
   "metadata": {},
   "outputs": [],
   "source": [
    "import joblib\n",
    "joblib.dump(best_rf,open('best_rf.joblib','wb'))"
   ]
  },
  {
   "cell_type": "code",
   "execution_count": null,
   "id": "d3f0a160",
   "metadata": {
    "execution": {
     "iopub.execute_input": "2024-06-04T22:22:58.477590Z",
     "iopub.status.busy": "2024-06-04T22:22:58.477151Z",
     "iopub.status.idle": "2024-06-04T22:22:58.716234Z",
     "shell.execute_reply": "2024-06-04T22:22:58.714732Z"
    },
    "papermill": {
     "duration": 0.29661,
     "end_time": "2024-06-04T22:22:58.718975",
     "exception": false,
     "start_time": "2024-06-04T22:22:58.422365",
     "status": "completed"
    },
    "tags": []
   },
   "outputs": [],
   "source": [
    "from sklearn.metrics import confusion_matrix\n",
    "\n",
    "# Get the confusion matrix\n",
    "conf_matrix = confusion_matrix(y_test, final_predictions)\n",
    "print('Confusion Matrix:')\n",
    "print(conf_matrix)\n",
    "final_accuracy = accuracy_score(y_test, final_predictions)\n",
    "print(f'Final accuracy with optimal threshold {best_threshold:.2f}: {final_accuracy:.4f}')"
   ]
  },
  {
   "cell_type": "code",
   "execution_count": null,
   "id": "c7ada669",
   "metadata": {
    "execution": {
     "iopub.execute_input": "2024-06-04T22:22:58.827587Z",
     "iopub.status.busy": "2024-06-04T22:22:58.827135Z",
     "iopub.status.idle": "2024-06-04T22:22:59.279067Z",
     "shell.execute_reply": "2024-06-04T22:22:59.277731Z"
    },
    "papermill": {
     "duration": 0.509373,
     "end_time": "2024-06-04T22:22:59.281682",
     "exception": false,
     "start_time": "2024-06-04T22:22:58.772309",
     "status": "completed"
    },
    "tags": []
   },
   "outputs": [],
   "source": [
    "import matplotlib.pyplot as plt\n",
    "\n",
    "# Plot the confusion matrix\n",
    "plt.matshow(conf_matrix, cmap=plt.cm.Blues)  # Use a colormap for better visualization\n",
    "plt.colorbar()\n",
    "\n",
    "# Add labels and title\n",
    "plt.ylabel('True Label')\n",
    "plt.xlabel('Predicted Label')\n",
    "plt.title('Confusion Matrix')\n",
    "\n",
    "# Add ticks with class labels (assuming you have class labels stored somewhere)\n",
    "plt.tick_params(bottom=False)  # Remove x-axis tick labels (predicted labels are shown on the top)\n",
    "class_labels = ['Class 0', 'Class 1']  # Replace with your actual class labels\n",
    "plt.xticks(range(len(class_labels)), class_labels, rotation=45)\n",
    "plt.yticks(range(len(class_labels)), class_labels)\n",
    "\n",
    "# Add values to each cell (optional)\n",
    "for i in range(len(conf_matrix)):\n",
    "  for j in range(len(conf_matrix[0])):\n",
    "    plt.text(j, i, conf_matrix[i, j], ha='center', va='center')\n",
    "\n",
    "plt.tight_layout()\n",
    "plt.show()"
   ]
  },
  {
   "cell_type": "code",
   "execution_count": null,
   "id": "9a847f78",
   "metadata": {
    "execution": {
     "iopub.execute_input": "2024-06-04T22:22:59.392636Z",
     "iopub.status.busy": "2024-06-04T22:22:59.392168Z",
     "iopub.status.idle": "2024-06-04T22:22:59.404391Z",
     "shell.execute_reply": "2024-06-04T22:22:59.402820Z"
    },
    "papermill": {
     "duration": 0.071744,
     "end_time": "2024-06-04T22:22:59.407016",
     "exception": false,
     "start_time": "2024-06-04T22:22:59.335272",
     "status": "completed"
    },
    "tags": []
   },
   "outputs": [],
   "source": [
    "from sklearn.metrics import mean_squared_error\n",
    "\n",
    "# Calculate mean squared error\n",
    "mse = mean_squared_error(y_test, final_predictions)\n",
    "\n",
    "# Print the MSE\n",
    "print(f\"Mean Squared Error: {mse:.2f}\")"
   ]
  },
  {
   "cell_type": "code",
   "execution_count": null,
   "id": "42d499b1",
   "metadata": {
    "execution": {
     "iopub.execute_input": "2024-06-04T22:22:59.517186Z",
     "iopub.status.busy": "2024-06-04T22:22:59.516764Z",
     "iopub.status.idle": "2024-06-04T22:23:01.328117Z",
     "shell.execute_reply": "2024-06-04T22:23:01.326859Z"
    },
    "papermill": {
     "duration": 1.870216,
     "end_time": "2024-06-04T22:23:01.330943",
     "exception": false,
     "start_time": "2024-06-04T22:22:59.460727",
     "status": "completed"
    },
    "tags": []
   },
   "outputs": [],
   "source": [
    "from sklearn.metrics import precision_score, recall_score, f1_score\n",
    "\n",
    "# Compute confusion matrix\n",
    "conf_matrix = confusion_matrix(y_test, final_predictions)\n",
    "\n",
    "# Extract TP, TN, FP, FN\n",
    "TN = conf_matrix[0, 0]\n",
    "FP = conf_matrix[0, 1]\n",
    "FN = conf_matrix[1, 0]\n",
    "TP = conf_matrix[1, 1]\n",
    "\n",
    "# Calculate precision, recall, and F1 score\n",
    "precision = precision_score(y_test, final_predictions)\n",
    "recall = recall_score(y_test, final_predictions)\n",
    "f1 = f1_score(y_test, final_predictions)\n",
    "\n",
    "# Calculate specificity\n",
    "specificity = TN / (TN + FP)\n",
    "\n",
    "# Print metrics\n",
    "print(f'Precision: {precision:.4f}')\n",
    "print(f'Recall: {recall:.4f}')\n",
    "print(f'F1 Score: {f1:.4f}')\n",
    "print(f'Specificity: {specificity:.4f}')"
   ]
  },
  {
   "cell_type": "code",
   "execution_count": null,
   "id": "39c0f270",
   "metadata": {
    "execution": {
     "iopub.execute_input": "2024-06-04T22:23:01.440337Z",
     "iopub.status.busy": "2024-06-04T22:23:01.439925Z",
     "iopub.status.idle": "2024-06-04T22:23:02.217132Z",
     "shell.execute_reply": "2024-06-04T22:23:02.215685Z"
    },
    "papermill": {
     "duration": 0.834918,
     "end_time": "2024-06-04T22:23:02.219859",
     "exception": false,
     "start_time": "2024-06-04T22:23:01.384941",
     "status": "completed"
    },
    "tags": []
   },
   "outputs": [],
   "source": [
    "from sklearn.metrics import roc_curve\n",
    "\n",
    "# Calculate ROC curve points\n",
    "fpr, tpr, thresholds = roc_curve(y_test, predicted_proba)\n",
    "\n",
    "# Optional: Plot the ROC curve\n",
    "plt.plot(fpr, tpr, label='ROC curve (AUC = %0.2f)' % roc_auc_score(y_test, predicted_proba))\n",
    "plt.title('ROC Curve')\n",
    "plt.xlabel('False Positive Rate (FPR)')\n",
    "plt.ylabel('True Positive Rate (TPR)')\n",
    "plt.legend(loc='lower right')\n",
    "plt.grid(True)\n",
    "plt.show()"
   ]
  },
  {
   "cell_type": "code",
   "execution_count": null,
   "id": "653d852c",
   "metadata": {
    "execution": {
     "iopub.execute_input": "2024-06-04T22:23:02.333500Z",
     "iopub.status.busy": "2024-06-04T22:23:02.332104Z",
     "iopub.status.idle": "2024-06-04T22:23:04.866580Z",
     "shell.execute_reply": "2024-06-04T22:23:04.865398Z"
    },
    "papermill": {
     "duration": 2.593959,
     "end_time": "2024-06-04T22:23:04.869263",
     "exception": false,
     "start_time": "2024-06-04T22:23:02.275304",
     "status": "completed"
    },
    "tags": []
   },
   "outputs": [],
   "source": [
    "# Variable importance from random forest\n",
    "importances = rf_model.feature_importances_\n",
    "feat_importances = pd.Series(importances, index=X.columns)\n",
    "feat_importances.nlargest(10).plot(kind='barh', figsize=(10,6))\n",
    "plt.title('Random Forest Variable Importance for Key Predictors')\n",
    "plt.xlabel('Variable Importance (Gini)')\n",
    "plt.ylabel('Predictor')\n",
    "plt.show()"
   ]
  },
  {
   "cell_type": "code",
   "execution_count": 67,
   "id": "9affb7a4",
   "metadata": {
    "execution": {
     "iopub.execute_input": "2024-06-04T22:23:04.986085Z",
     "iopub.status.busy": "2024-06-04T22:23:04.985613Z",
     "iopub.status.idle": "2024-06-04T22:23:05.183810Z",
     "shell.execute_reply": "2024-06-04T22:23:05.182441Z"
    },
    "papermill": {
     "duration": 0.25994,
     "end_time": "2024-06-04T22:23:05.186791",
     "exception": false,
     "start_time": "2024-06-04T22:23:04.926851",
     "status": "completed"
    },
    "tags": []
   },
   "outputs": [],
   "source": [
    "# Exclude the columns 'diagnosis_date', 'end_treatment_date', 'country', 'id', and 'survived'\n",
    "X = df[['age', 'gender', 'cancer_stage', 'family_history', 'smoking_status', 'bmi', 'cholesterol_level', 'hypertension', 'asthma', 'cirrhosis', 'other_cancer', 'treatment_type', 'days_under_treatment']]\n",
    "y = df['survived']"
   ]
  },
  {
   "cell_type": "code",
   "execution_count": 68,
   "id": "51b0305a",
   "metadata": {
    "execution": {
     "iopub.execute_input": "2024-06-04T22:23:05.302825Z",
     "iopub.status.busy": "2024-06-04T22:23:05.302254Z",
     "iopub.status.idle": "2024-06-04T22:23:07.528348Z",
     "shell.execute_reply": "2024-06-04T22:23:07.527028Z"
    },
    "papermill": {
     "duration": 2.286814,
     "end_time": "2024-06-04T22:23:07.531304",
     "exception": false,
     "start_time": "2024-06-04T22:23:05.244490",
     "status": "completed"
    },
    "tags": []
   },
   "outputs": [],
   "source": [
    "# Split the data into training and testing sets\n",
    "X_train, X_test, y_train, y_test = train_test_split(X, y, test_size=0.2, random_state=42)"
   ]
  },
  {
   "cell_type": "code",
   "execution_count": null,
   "id": "163bd486",
   "metadata": {
    "execution": {
     "iopub.execute_input": "2024-06-04T22:23:07.712089Z",
     "iopub.status.busy": "2024-06-04T22:23:07.711020Z",
     "iopub.status.idle": "2024-06-04T22:36:27.464407Z",
     "shell.execute_reply": "2024-06-04T22:36:27.463103Z"
    },
    "papermill": {
     "duration": 799.868144,
     "end_time": "2024-06-04T22:36:27.522501",
     "exception": false,
     "start_time": "2024-06-04T22:23:07.654357",
     "status": "completed"
    },
    "tags": []
   },
   "outputs": [],
   "source": [
    "from imblearn.ensemble import BalancedBaggingClassifier\n",
    "from sklearn.tree import DecisionTreeClassifier\n",
    "from sklearn.preprocessing import StandardScaler\n",
    "from sklearn.metrics import classification_report, confusion_matrix, accuracy_score, ConfusionMatrixDisplay\n",
    "import matplotlib.pyplot as plt\n",
    "\n",
    "# Create an instance of BalancedBaggingClassifier\n",
    "classifier = BalancedBaggingClassifier(\n",
    "    estimator=DecisionTreeClassifier(),\n",
    "    sampling_strategy='not majority',\n",
    "    replacement=False,\n",
    "    random_state=42\n",
    ")\n",
    "\n",
    "# Standardize the features if necessary\n",
    "scaler = StandardScaler()\n",
    "X_train_scaled = scaler.fit_transform(X_train)\n",
    "X_test_scaled = scaler.transform(X_test)\n",
    "\n",
    "# Fit the classifier to the training data\n",
    "classifier.fit(X_train_scaled, y_train)\n",
    "\n",
    "# Make predictions on the test data\n",
    "preds = classifier.predict(X_test_scaled)\n",
    "\n",
    "# Classification report\n",
    "report = classification_report(y_test, preds)\n",
    "\n",
    "# Confusion matrix\n",
    "cm = confusion_matrix(y_test, preds)\n",
    "\n",
    "# Accuracy score\n",
    "accuracy = accuracy_score(y_test, preds)\n",
    "\n",
    "# Print the results\n",
    "print(\"Classification Report:\\n\", report)\n",
    "print(\"Confusion Matrix:\\n\", cm)\n",
    "print(\"Accuracy Score:\", accuracy)\n",
    "\n",
    "# Plot confusion matrix\n",
    "disp = ConfusionMatrixDisplay(confusion_matrix=cm)\n",
    "disp.plot(cmap=plt.cm.Blues)\n",
    "plt.show()"
   ]
  }
 ],
 "metadata": {
  "kaggle": {
   "accelerator": "none",
   "dataSources": [
    {
     "datasetId": 5116788,
     "sourceId": 8581145,
     "sourceType": "datasetVersion"
    }
   ],
   "dockerImageVersionId": 30732,
   "isGpuEnabled": false,
   "isInternetEnabled": true,
   "language": "python",
   "sourceType": "notebook"
  },
  "kernelspec": {
   "display_name": "Python 3",
   "language": "python",
   "name": "python3"
  },
  "language_info": {
   "codemirror_mode": {
    "name": "ipython",
    "version": 3
   },
   "file_extension": ".py",
   "mimetype": "text/x-python",
   "name": "python",
   "nbconvert_exporter": "python",
   "pygments_lexer": "ipython3",
   "version": "3.12.2"
  },
  "papermill": {
   "default_parameters": {},
   "duration": 3241.747464,
   "end_time": "2024-06-04T22:36:50.922625",
   "environment_variables": {},
   "exception": null,
   "input_path": "__notebook__.ipynb",
   "output_path": "__notebook__.ipynb",
   "parameters": {},
   "start_time": "2024-06-04T21:42:49.175161",
   "version": "2.5.0"
  }
 },
 "nbformat": 4,
 "nbformat_minor": 5
}
